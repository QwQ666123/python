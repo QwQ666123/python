{
  "nbformat": 4,
  "nbformat_minor": 0,
  "metadata": {
    "colab": {
      "name": "Untitled3~7.ipynb",
      "provenance": [],
      "collapsed_sections": []
    },
    "kernelspec": {
      "name": "python3",
      "display_name": "Python 3"
    },
    "language_info": {
      "name": "python"
    }
  },
  "cells": [
    {
      "cell_type": "markdown",
      "source": [
        "# While迴圈應用\n",
        "帳號密碼判斷(登入)"
      ],
      "metadata": {
        "id": "akaIgnv6XTz-"
      }
    },
    {
      "cell_type": "code",
      "execution_count": null,
      "metadata": {
        "colab": {
          "base_uri": "https://localhost:8080/"
        },
        "id": "S9Kn1_QxVa4s",
        "outputId": "d669c88d-ab19-41cd-a02b-203f83c1e3eb"
      },
      "outputs": [
        {
          "output_type": "stream",
          "name": "stdout",
          "text": [
            "請輸入帳號:jfdspo\n",
            "請輸入密碼:fds\n",
            "帳號/密碼錯誤\n",
            "請輸入帳號:tony\n",
            "請輸入密碼:123\n",
            "歡迎登入\n"
          ]
        }
      ],
      "source": [
        "id=\"tony\"\n",
        "pwd=\"123\"\n",
        "while True:\n",
        "  a=input(\"請輸入帳號:\")\n",
        "  b=input(\"請輸入密碼:\")\n",
        "  if (a==id and b==pwd):\n",
        "    print(\"歡迎登入\")\n",
        "    break\n",
        "  else:\n",
        "     print(\"帳號/密碼錯誤\") "
      ]
    },
    {
      "cell_type": "markdown",
      "source": [
        "#亂數"
      ],
      "metadata": {
        "id": "QkKxZ36wa4qU"
      }
    },
    {
      "cell_type": "code",
      "source": [
        "import random\n",
        "for i in range(10):\n",
        "  print(random.randint(1,9)) #產生1~9的亂數"
      ],
      "metadata": {
        "colab": {
          "base_uri": "https://localhost:8080/"
        },
        "id": "Zcn3iMhRa9Ob",
        "outputId": "a1b2b42c-278e-4a6c-99d3-f1b03f626de6"
      },
      "execution_count": null,
      "outputs": [
        {
          "output_type": "stream",
          "name": "stdout",
          "text": [
            "1\n",
            "7\n",
            "8\n",
            "7\n",
            "3\n",
            "2\n",
            "8\n",
            "9\n",
            "9\n",
            "7\n"
          ]
        }
      ]
    },
    {
      "cell_type": "markdown",
      "source": [
        "#猜數字遊戲"
      ],
      "metadata": {
        "id": "5B-V3xK_ct5U"
      }
    },
    {
      "cell_type": "code",
      "source": [
        "import random\n",
        "number=random.randint(1,10)\n",
        "while True:\n",
        "  guess=int(input(\"猜一個1-10的整數:\"))\n",
        "  if (guess==number):\n",
        "    print(\"恭喜對了\")\n",
        "    break\n",
        "  else:\n",
        "    print(\"錯了!!\")  "
      ],
      "metadata": {
        "colab": {
          "base_uri": "https://localhost:8080/"
        },
        "id": "h-Ep9bdzcxQL",
        "outputId": "c07a5fea-6817-4982-9876-65d494a2ed0e"
      },
      "execution_count": 1,
      "outputs": [
        {
          "output_type": "stream",
          "name": "stdout",
          "text": [
            "猜一個1-10的整數:9\n",
            "錯了!!\n",
            "猜一個1-10的整數:5\n",
            "錯了!!\n",
            "猜一個1-10的整數:4\n",
            "錯了!!\n",
            "猜一個1-10的整數:2\n",
            "錯了!!\n",
            "猜一個1-10的整數:1\n",
            "錯了!!\n",
            "猜一個1-10的整數:3\n",
            "錯了!!\n",
            "猜一個1-10的整數:6\n",
            "錯了!!\n",
            "猜一個1-10的整數:7\n",
            "錯了!!\n",
            "猜一個1-10的整數:8\n",
            "恭喜對了\n"
          ]
        }
      ]
    },
    {
      "cell_type": "code",
      "source": [
        "score=[90,100,88,60,79]\n",
        "print(score[0])\n",
        "print(score[1])\n",
        "\n",
        "for i in range(len(score)): \n",
        "  print(score[i])"
      ],
      "metadata": {
        "colab": {
          "base_uri": "https://localhost:8080/"
        },
        "id": "WDefOl-SgkvB",
        "outputId": "2aabcaca-cbc3-454e-d0e9-95b055862506"
      },
      "execution_count": 2,
      "outputs": [
        {
          "output_type": "stream",
          "name": "stdout",
          "text": [
            "90\n",
            "100\n",
            "90\n",
            "100\n",
            "88\n",
            "60\n",
            "79\n"
          ]
        }
      ]
    },
    {
      "cell_type": "code",
      "source": [
        "#score=[90,100,88,60,79]\n",
        "print(score[0:3])   #取出score[0]-score[2], 不包含score[3]\n",
        "print(score[:])    #取出所有的值\n",
        "print(score[:4])    #取出score[0]-score[3], 不包含score[4]\n",
        "print(score[2:])    #取出score[2]後面的所有的值\n",
        "print(score[0:5:2])  #間隔2\n",
        "print(score[::2])   #間隔2\n",
        "print(score[::-2])  #從後往前取 \n",
        "print(score[4:0:-2])"
      ],
      "metadata": {
        "colab": {
          "base_uri": "https://localhost:8080/"
        },
        "id": "1fXX3K9HmQZL",
        "outputId": "2fa9f88c-6e87-4dc7-95ff-ecbedae31bd1"
      },
      "execution_count": null,
      "outputs": [
        {
          "output_type": "stream",
          "name": "stdout",
          "text": [
            "[90, 100, 88]\n",
            "[90, 100, 88, 60, 79]\n",
            "[90, 100, 88, 60]\n",
            "[88, 60, 79]\n",
            "[90, 88, 79]\n",
            "[90, 88, 79]\n",
            "[79, 88, 90]\n",
            "[79, 88]\n"
          ]
        }
      ]
    },
    {
      "cell_type": "code",
      "source": [
        "my_list0=[]\n",
        "print(my_list0)\n",
        "my_list1=list()\n",
        "my_list2=['python','javascript','c#']\n",
        "print(my_list2)\n",
        "print(len(my_list2))  #len:計算list的長度\n",
        "print(len(my_list2[2]))"
      ],
      "metadata": {
        "colab": {
          "base_uri": "https://localhost:8080/"
        },
        "id": "W4eLYqJecb--",
        "outputId": "43f4ad26-de54-48a3-e573-3d6447db6dd7"
      },
      "execution_count": null,
      "outputs": [
        {
          "output_type": "stream",
          "name": "stdout",
          "text": [
            "[]\n",
            "['python', 'javascript', 'c#']\n",
            "3\n",
            "2\n"
          ]
        }
      ]
    },
    {
      "cell_type": "code",
      "source": [
        "my_list2=['python','javascript','c#']\n",
        "my_list2.append('java')  #append:附加在最後面\n",
        "print(my_list2)\n",
        "my_list2.remove('java')  #remove:移除\n",
        "print(my_list2)\n",
        "my_list2.insert(0,'java') #insert:插入物件，需指定索引位置\n",
        "print(my_list2)\n",
        "my_list2.clear()     #clear:清除所有物件\n",
        "print(my_list2)"
      ],
      "metadata": {
        "colab": {
          "base_uri": "https://localhost:8080/"
        },
        "id": "OLPZntYIerSq",
        "outputId": "0821a497-81a3-4cc8-c820-a9961ec03b0e"
      },
      "execution_count": null,
      "outputs": [
        {
          "output_type": "stream",
          "name": "stdout",
          "text": [
            "['python', 'javascript', 'c#', 'java']\n",
            "['python', 'javascript', 'c#']\n",
            "['java', 'python', 'javascript', 'c#']\n",
            "[]\n"
          ]
        }
      ]
    },
    {
      "cell_type": "code",
      "source": [
        "a=[1,2,3]\n",
        "b=[4,5,6]\n",
        "c=a+b\n",
        "print(c)\n",
        "d=a*3\n",
        "print(d)\n"
      ],
      "metadata": {
        "colab": {
          "base_uri": "https://localhost:8080/"
        },
        "id": "ExKA0rKMf_Tp",
        "outputId": "c621e873-8534-4517-dccc-ae81d6a05a0d"
      },
      "execution_count": null,
      "outputs": [
        {
          "output_type": "stream",
          "name": "stdout",
          "text": [
            "[1, 2, 3, 4, 5, 6]\n",
            "[1, 2, 3, 1, 2, 3, 1, 2, 3]\n"
          ]
        }
      ]
    },
    {
      "cell_type": "code",
      "source": [
        ""
      ],
      "metadata": {
        "id": "tt4Neyg1eTaD"
      },
      "execution_count": null,
      "outputs": []
    },
    {
      "cell_type": "markdown",
      "source": [
        "#函式\n",
        "\n"
      ],
      "metadata": {
        "id": "UJaWBSxGepeR"
      }
    },
    {
      "cell_type": "code",
      "source": [
        "# 傳統寫法\n",
        "import math\n",
        "radius=eval(input(\"請輸入員的半徑\"))\n",
        "print(\"園面積為:\",radius * radius * math.pi)"
      ],
      "metadata": {
        "colab": {
          "base_uri": "https://localhost:8080/"
        },
        "id": "c6paY_vDf69s",
        "outputId": "8d2995e7-f600-404a-f08f-01f2e78f863e"
      },
      "execution_count": null,
      "outputs": [
        {
          "output_type": "stream",
          "name": "stdout",
          "text": [
            "請輸入員的半徑10\n",
            "園面積為: 314.1592653589793\n"
          ]
        }
      ]
    },
    {
      "cell_type": "markdown",
      "source": [
        "#圓面積計算函式"
      ],
      "metadata": {
        "id": "lABVWSXelk4-"
      }
    },
    {
      "cell_type": "code",
      "source": [
        "import math\n",
        "def circle_area(radius):\n",
        "  area = radius * radius * math.pi\n",
        "  return area\n",
        "\n",
        "print(\"半徑10,圓面積為:\",circle_area(10))\n",
        "print(\"半徑50,圓面積為:\",circle_area(50))\n",
        "print(\"半徑5,圓面積為:\",circle_area(5))"
      ],
      "metadata": {
        "colab": {
          "base_uri": "https://localhost:8080/"
        },
        "id": "G27XY0wbktS3",
        "outputId": "2d4ff68c-6bc9-49ab-b7af-c7610847a924"
      },
      "execution_count": null,
      "outputs": [
        {
          "output_type": "stream",
          "name": "stdout",
          "text": [
            "半徑10,圓面積為: 314.1592653589793\n",
            "半徑50,圓面積為: 7853.981633974483\n",
            "半徑5,圓面積為: 78.53981633974483\n"
          ]
        }
      ]
    },
    {
      "cell_type": "markdown",
      "source": [
        "#錯誤處理\n",
        "try:\n",
        "  程式碼<br>\n",
        "except:\n",
        "  例外的時候處理動作<br>\n",
        "else:\n",
        "  沒有進入例外(程式正確)的處理動作<br>\n",
        "finally:\n",
        "  不管正確例外，都會執行的動作<br>"
      ],
      "metadata": {
        "id": "FXWqo4PNwVOP"
      }
    },
    {
      "cell_type": "code",
      "source": [
        "try:\n",
        " a=10\n",
        " b=20\n",
        " if a<b:\n",
        "   print(n)\n",
        "except NameError:\n",
        "  print(\"NameError\")\n",
        "\n",
        "except:\n",
        "  print(\"OtherError\")\n",
        "\n"
      ],
      "metadata": {
        "id": "ZLRtTKJmwUey"
      },
      "execution_count": null,
      "outputs": []
    },
    {
      "cell_type": "code",
      "source": [
        "try:\n",
        " a=10\n",
        " b=20\n",
        " if a<b:\n",
        "   print(n)\n",
        "except NameError:\n",
        "  print(\"NameError\")\n",
        "\n",
        "except:\n",
        "  print(\"OtherError\")\n",
        "\n",
        "else:\n",
        "  print(\"fine\")\n",
        "\n",
        "finally:\n",
        "  print(\"whatever it is wrong or correct will execute \")\n"
      ],
      "metadata": {
        "id": "CN1RgfSVyoBg"
      },
      "execution_count": null,
      "outputs": []
    },
    {
      "cell_type": "markdown",
      "source": [
        "#檔案處理\n",
        "os套件：用來處理文件與目錄，與檔案相關操作"
      ],
      "metadata": {
        "id": "rVUC9WmJgB1i"
      }
    },
    {
      "cell_type": "code",
      "source": [
        "import os\n",
        "print(os.getcwd())  #獲取目前的工作目錄\n"
      ],
      "metadata": {
        "colab": {
          "base_uri": "https://localhost:8080/"
        },
        "id": "HDx69bjjgNca",
        "outputId": "61ef0495-0f08-40a9-a871-7d39bbb661c0"
      },
      "execution_count": null,
      "outputs": [
        {
          "output_type": "stream",
          "name": "stdout",
          "text": [
            "/content\n"
          ]
        }
      ]
    },
    {
      "cell_type": "code",
      "source": [
        "print(os.listdir())  #顯示目前目錄下所有檔案及仔目錄"
      ],
      "metadata": {
        "colab": {
          "base_uri": "https://localhost:8080/"
        },
        "id": "30Ou0bGgg3zb",
        "outputId": "5d5bff28-213a-42e3-eb9a-751e118bc0c8"
      },
      "execution_count": null,
      "outputs": [
        {
          "output_type": "stream",
          "name": "stdout",
          "text": [
            "['.config', 'sample_data']\n"
          ]
        }
      ]
    },
    {
      "cell_type": "code",
      "source": [
        "os.makedirs(\"test\")  #在目前目錄下，建立一個名為\"tese\"的目錄\n",
        "os.listdir()"
      ],
      "metadata": {
        "colab": {
          "base_uri": "https://localhost:8080/"
        },
        "id": "IINmTMaCicSc",
        "outputId": "8916c6d4-ba0f-4dba-9f76-1abec6a37465"
      },
      "execution_count": null,
      "outputs": [
        {
          "output_type": "execute_result",
          "data": {
            "text/plain": [
              "['.config', 'test', 'sample_data']"
            ]
          },
          "metadata": {},
          "execution_count": 3
        }
      ]
    },
    {
      "cell_type": "code",
      "source": [
        "os.rmdir(\"test\")    #刪除test目錄\n",
        "os.listdir()"
      ],
      "metadata": {
        "colab": {
          "base_uri": "https://localhost:8080/"
        },
        "id": "pBLW06Dri9mS",
        "outputId": "3ec26da7-1a0e-495c-b1e0-6885ea4e1eab"
      },
      "execution_count": null,
      "outputs": [
        {
          "output_type": "execute_result",
          "data": {
            "text/plain": [
              "['.config', 'sample_data']"
            ]
          },
          "metadata": {},
          "execution_count": 4
        }
      ]
    },
    {
      "cell_type": "markdown",
      "source": [
        "#檔案的開啟與寫入\n",
        "## 檔案處理\n",
        "os套件有自己的檔案處理命令，而比較常用的是python內建的open\n",
        "* w = 可寫(預設建立檔案) 若檔案存在則會清除舊檔案\n",
        "* w+ = 可寫可讀(預設建立檔案) 若檔案存在則會清除舊檔案\n",
        "* r = 可讀\n",
        "* r+ = 可寫可讀 但寫入資料指向開頭\n",
        "* a = 可寫不能讀 寫入資料指向尾端\n",
        "* a+ = 可寫可讀 寫入資料指向尾端\n",
        "* b = 轉為2進位文件\n",
        "* ab+ = 2進位文件的讀寫 寫入資料指向尾端"
      ],
      "metadata": {
        "id": "wG2JGxF_khYr"
      }
    },
    {
      "cell_type": "code",
      "source": [
        "a=open()   #python內建開檔\n",
        "ab=os.open() #os套件開檔"
      ],
      "metadata": {
        "id": "24xbppl4k45E"
      },
      "execution_count": null,
      "outputs": []
    },
    {
      "cell_type": "code",
      "source": [
        "#新增檔案\n",
        "a=open(\"a.txt\",\"w\")\n",
        "a.write(\"This is a test1\")\n",
        "a.write(\"This is a test2\\n\")\n",
        "a.write(\"This is a test3\\n\")\n",
        "a.close()"
      ],
      "metadata": {
        "id": "yxpJAuYBmFwk"
      },
      "execution_count": null,
      "outputs": []
    },
    {
      "cell_type": "code",
      "source": [
        "os.path.isfile(\"a.txt\")"
      ],
      "metadata": {
        "colab": {
          "base_uri": "https://localhost:8080/"
        },
        "id": "Eqt7R9BgmwJh",
        "outputId": "9616eb4e-4524-4131-d023-8f96f9facad6"
      },
      "execution_count": null,
      "outputs": [
        {
          "output_type": "execute_result",
          "data": {
            "text/plain": [
              "True"
            ]
          },
          "metadata": {},
          "execution_count": 7
        }
      ]
    },
    {
      "cell_type": "code",
      "source": [
        "a=open(\"a.txt\",\"r\")  #讀取檔案\n",
        "print(a.readline())  #readline()一次讀取一行\n",
        "print(a.readline())\n",
        "a.close()  #離開實行區塊錢，記得呼叫close()把buffer裡的命令寫入"
      ],
      "metadata": {
        "colab": {
          "base_uri": "https://localhost:8080/"
        },
        "id": "8s21G7UrnUYq",
        "outputId": "f64412f5-1cdb-4fca-d28a-8bcb3049cd79"
      },
      "execution_count": null,
      "outputs": [
        {
          "output_type": "stream",
          "name": "stdout",
          "text": [
            "This is a test1This is a test2\n",
            "\n",
            "This is a test3\n",
            "\n"
          ]
        }
      ]
    },
    {
      "cell_type": "code",
      "source": [
        "if os.path.isfile(\"a.txt\"):\n",
        "  a=open(\"a.txt\",\"r\")\n",
        "  print(a.readline())\n",
        "  print(a.readline())\n",
        "  a.close()\n",
        "\n",
        "else:\n",
        "  print(\"檔案不存在\")"
      ],
      "metadata": {
        "colab": {
          "base_uri": "https://localhost:8080/"
        },
        "id": "RTX86uV-rgfD",
        "outputId": "c5d2ed35-311f-4013-df27-84b10b450025"
      },
      "execution_count": null,
      "outputs": [
        {
          "output_type": "stream",
          "name": "stdout",
          "text": [
            "This is a test1This is a test2\n",
            "\n",
            "This is a test3\n",
            "\n"
          ]
        }
      ]
    },
    {
      "cell_type": "code",
      "source": [
        "if os.path.isfile(\"a.txt\"):\n",
        "  a=open(\"a.txt\",\"r\")\n",
        "  for line in a:\n",
        "   print(line.split(\" \"))  #根據\" \"空白來切割\n",
        "   \n",
        "  a.close()\n",
        "\n",
        "else:\n",
        "  print(\"檔案不存在\")"
      ],
      "metadata": {
        "colab": {
          "base_uri": "https://localhost:8080/"
        },
        "id": "yP3aOx4asx2w",
        "outputId": "ccf05871-69fe-4dc2-87cc-c4b61e4b719f"
      },
      "execution_count": null,
      "outputs": [
        {
          "output_type": "stream",
          "name": "stdout",
          "text": [
            "['This', 'is', 'a', 'test1This', 'is', 'a', 'test2\\n']\n",
            "['This', 'is', 'a', 'test3\\n']\n"
          ]
        }
      ]
    },
    {
      "cell_type": "markdown",
      "source": [
        "#附加檔案"
      ],
      "metadata": {
        "id": "-Xf2K7-ZvmeE"
      }
    },
    {
      "cell_type": "code",
      "source": [
        "a=open(\"a.txt\",\"a\") #在檔案的尾巴加上資料\n",
        "a.write(\"this is a test4\\n\")\n",
        "a.close()"
      ],
      "metadata": {
        "id": "3z43ZAzQt4Nx"
      },
      "execution_count": null,
      "outputs": []
    },
    {
      "cell_type": "code",
      "source": [
        "#加在最前r+參數\n",
        "a=open(\"a.txt\",\"r+\") #在檔案的最前加上資料\n",
        "a.write(\"this is a test4\\n\")\n",
        "a.close()"
      ],
      "metadata": {
        "id": "TSYghHsbwZMQ"
      },
      "execution_count": null,
      "outputs": []
    },
    {
      "cell_type": "code",
      "source": [
        "a=open(\"a.txt\",\"r\") \n",
        "print(a.readlines())  #讀所有行\n",
        "a.close()"
      ],
      "metadata": {
        "colab": {
          "base_uri": "https://localhost:8080/"
        },
        "id": "LkMmg3BowGFI",
        "outputId": "d738e119-af87-479c-ada0-7c3280a39b26"
      },
      "execution_count": null,
      "outputs": [
        {
          "output_type": "stream",
          "name": "stdout",
          "text": [
            "['this is a test4\\n', 'his is a test2\\n', 'This is a test3\\n', 'this is a test4\\n']\n"
          ]
        }
      ]
    },
    {
      "cell_type": "code",
      "source": [
        "#刪除檔案\n",
        "os.remove(\"a.txt\")"
      ],
      "metadata": {
        "id": "3wI6dC1RyphW"
      },
      "execution_count": null,
      "outputs": []
    },
    {
      "cell_type": "code",
      "source": [
        "a=24\n",
        "b=7\n",
        "ans=(a%b*100) // 2.0**3.0-b\n",
        "print(ans)\n"
      ],
      "metadata": {
        "colab": {
          "base_uri": "https://localhost:8080/"
        },
        "id": "PbO9zBZk7GWo",
        "outputId": "e5974eb9-1ed1-49eb-db29-b1dade604221"
      },
      "execution_count": null,
      "outputs": [
        {
          "output_type": "stream",
          "name": "stdout",
          "text": [
            "30.0\n"
          ]
        }
      ]
    }
  ]
}