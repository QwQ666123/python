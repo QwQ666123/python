{
  "nbformat": 4,
  "nbformat_minor": 0,
  "metadata": {
    "colab": {
      "name": "Untitled1.ipynb",
      "provenance": [],
      "collapsed_sections": []
    },
    "kernelspec": {
      "name": "python3",
      "display_name": "Python 3"
    },
    "language_info": {
      "name": "python"
    }
  },
  "cells": [
    {
      "cell_type": "markdown",
      "source": [
        "#Chap 1 運算式、變數術語資料型別\n",
        "##註解\n"
      ],
      "metadata": {
        "id": "-AKtZGoEEEAU"
      }
    },
    {
      "cell_type": "code",
      "execution_count": null,
      "metadata": {
        "colab": {
          "base_uri": "https://localhost:8080/"
        },
        "id": "SK_ehcKCCX1V",
        "outputId": "cda4bfb8-913d-4e28-bae9-24f6dea23477"
      },
      "outputs": [
        {
          "output_type": "stream",
          "name": "stdout",
          "text": [
            "8\n"
          ]
        }
      ],
      "source": [
        "a=5  #單行註解\n",
        "b=3\n",
        "print(a+b)"
      ]
    },
    {
      "cell_type": "code",
      "source": [
        "'''\n",
        "這是\n",
        "多行註解\n",
        "'''\n",
        "\n",
        "a=5  \n",
        "b=3\n",
        "print(a+b)"
      ],
      "metadata": {
        "colab": {
          "base_uri": "https://localhost:8080/"
        },
        "id": "I5nxa8cbE7qs",
        "outputId": "219ddc1d-31a7-4aa0-f021-dd74086ab3ed"
      },
      "execution_count": null,
      "outputs": [
        {
          "output_type": "stream",
          "name": "stdout",
          "text": [
            "8\n"
          ]
        }
      ]
    },
    {
      "cell_type": "markdown",
      "source": [
        "#運算式\n"
      ],
      "metadata": {
        "id": "_prBeWoCEDhu"
      }
    },
    {
      "cell_type": "code",
      "source": [
        "a=5  \n",
        "b=3\n",
        "#變數交換\n",
        "c=a\n",
        "a=b\n",
        "b=c\n",
        "\n",
        "print(a)\n",
        "print(b)"
      ],
      "metadata": {
        "colab": {
          "base_uri": "https://localhost:8080/"
        },
        "id": "dEMTKLPVI5y4",
        "outputId": "41cb4c8f-c811-4416-8c10-ffed73297a79"
      },
      "execution_count": null,
      "outputs": [
        {
          "output_type": "stream",
          "name": "stdout",
          "text": [
            "3\n",
            "5\n"
          ]
        }
      ]
    },
    {
      "cell_type": "code",
      "source": [
        "#不透過第三變數c，交換a,b值\n",
        "\n",
        "a=5  \n",
        "b=3\n",
        "\n",
        "a=a+b\n",
        "b=a-b\n",
        "a=a-b\n",
        "\n",
        "print(a)\n",
        "print(b)\n",
        "\n"
      ],
      "metadata": {
        "colab": {
          "base_uri": "https://localhost:8080/"
        },
        "id": "bGNshA4AJin_",
        "outputId": "28e20a43-97d2-4f3a-a69c-17c0c4af2f38"
      },
      "execution_count": null,
      "outputs": [
        {
          "output_type": "stream",
          "name": "stdout",
          "text": [
            "3\n",
            "5\n"
          ]
        }
      ]
    },
    {
      "cell_type": "markdown",
      "source": [
        "#變數\n",
        "### 變數的平行設定"
      ],
      "metadata": {
        "id": "ZR8Ttc2ZQMUA"
      }
    },
    {
      "cell_type": "code",
      "source": [
        "x , y , z=3 , 4 , 5\n",
        "print (x,y,z)"
      ],
      "metadata": {
        "colab": {
          "base_uri": "https://localhost:8080/"
        },
        "id": "MOj7gvaVQPgW",
        "outputId": "bd6dbb9e-4d5d-49be-a56d-93be3e943be5"
      },
      "execution_count": null,
      "outputs": [
        {
          "output_type": "stream",
          "name": "stdout",
          "text": [
            "3 4 5\n"
          ]
        }
      ]
    },
    {
      "cell_type": "code",
      "source": [
        "x , y , z=3 , 4 , 5\n",
        "x += 1 #x=x+1\n",
        "y *= 2 #y=y*2\n",
        "z **= 3 #z^3\n",
        "\n",
        "print (x,y,z)"
      ],
      "metadata": {
        "colab": {
          "base_uri": "https://localhost:8080/"
        },
        "id": "5N6Ygl-rRnSG",
        "outputId": "e4e11b2c-4fda-4f84-b14f-41ffc1f03535"
      },
      "execution_count": null,
      "outputs": [
        {
          "output_type": "stream",
          "name": "stdout",
          "text": [
            "4 8 125\n"
          ]
        }
      ]
    },
    {
      "cell_type": "markdown",
      "source": [
        "Q：半徑為10的圓形，其面積大小為何? "
      ],
      "metadata": {
        "id": "OQ5fmyYHTFD-"
      }
    },
    {
      "cell_type": "code",
      "source": [
        "import math\n",
        "r=10\n",
        "print( r * r * math.pi)\n"
      ],
      "metadata": {
        "colab": {
          "base_uri": "https://localhost:8080/"
        },
        "id": "EsQyYoZzTOrf",
        "outputId": "a7c084cc-9f08-4f36-e67c-2bca30bc25ed"
      },
      "execution_count": null,
      "outputs": [
        {
          "output_type": "stream",
          "name": "stdout",
          "text": [
            "314.1592653589793\n"
          ]
        }
      ]
    },
    {
      "cell_type": "code",
      "source": [
        "import math\n",
        "r=eval(input(\"請輸入圓半徑:\")) #eval 計算輸入之值\n",
        "print(r * r * math.pi)"
      ],
      "metadata": {
        "colab": {
          "base_uri": "https://localhost:8080/"
        },
        "id": "sLFUKDu5VWTW",
        "outputId": "6e16680e-aa03-4ec6-c967-8d2425952136"
      },
      "execution_count": null,
      "outputs": [
        {
          "output_type": "stream",
          "name": "stdout",
          "text": [
            "請施入園半徑:6.88\n",
            "148.7054033020807\n"
          ]
        }
      ]
    },
    {
      "cell_type": "code",
      "source": [
        "import math\n",
        "r=eval(input(\"輸入長方形A邊:\")) #eval 計算輸入之值\n",
        "q=eval(input(\"輸入長方形B邊:\"))\n",
        "print((r + q) * 2)"
      ],
      "metadata": {
        "colab": {
          "base_uri": "https://localhost:8080/"
        },
        "id": "UxjFjL5dV6Zu",
        "outputId": "b5c642b7-6ce0-446a-9a3f-33c287630e10"
      },
      "execution_count": null,
      "outputs": [
        {
          "output_type": "stream",
          "name": "stdout",
          "text": [
            "輸入長方形A邊:2\n",
            "輸入長方形B邊:3\n",
            "10\n"
          ]
        }
      ]
    },
    {
      "cell_type": "markdown",
      "source": [
        "#資料型別\n"
      ],
      "metadata": {
        "id": "k3CnAZ0XF7wm"
      }
    },
    {
      "cell_type": "code",
      "source": [
        "x=254\n",
        "print(type(x))\n",
        "y=254.0\n",
        "print(type(y))\n",
        "z=\"write\"\n",
        "print(type(z))\n",
        "print(type(x==y))"
      ],
      "metadata": {
        "colab": {
          "base_uri": "https://localhost:8080/"
        },
        "id": "pUfN_g2rD_2d",
        "outputId": "777a9068-3667-49e1-9c5f-76568fb82347"
      },
      "execution_count": null,
      "outputs": [
        {
          "output_type": "stream",
          "name": "stdout",
          "text": [
            "<class 'int'>\n",
            "<class 'float'>\n",
            "<class 'str'>\n",
            "<class 'bool'>\n"
          ]
        }
      ]
    },
    {
      "cell_type": "code",
      "source": [
        "x=10\n",
        "y=3\n",
        "print(x/y)  #求值\n",
        "print(x//y)  #求商\n",
        "print(x%y)  #求餘"
      ],
      "metadata": {
        "colab": {
          "base_uri": "https://localhost:8080/"
        },
        "id": "phWdtW-UI9yV",
        "outputId": "668b2587-e752-4661-8508-80092b4ca835"
      },
      "execution_count": null,
      "outputs": [
        {
          "output_type": "stream",
          "name": "stdout",
          "text": [
            "3.3333333333333335\n",
            "3\n",
            "1\n"
          ]
        }
      ]
    },
    {
      "cell_type": "markdown",
      "source": [
        "#算術符號的順序\n",
        "\n",
        "() > ** > * / > + -"
      ],
      "metadata": {
        "id": "0fKUM7tkMfLE"
      }
    },
    {
      "cell_type": "code",
      "source": [
        "x=(5*(1+2)**2-3+4/2)\n",
        "print(x)"
      ],
      "metadata": {
        "colab": {
          "base_uri": "https://localhost:8080/"
        },
        "id": "lPzjbmq3Mu-8",
        "outputId": "e3ee3a1a-3af5-431e-c9b4-3e2046f64aaa"
      },
      "execution_count": null,
      "outputs": [
        {
          "output_type": "stream",
          "name": "stdout",
          "text": [
            "44.0\n"
          ]
        }
      ]
    },
    {
      "cell_type": "markdown",
      "source": [
        "## 型態轉換"
      ],
      "metadata": {
        "id": "sPsadu2LSGcM"
      }
    },
    {
      "cell_type": "code",
      "source": [
        "x=\"must\"\n",
        "print(10*x)\n",
        "print(\"10\"+x)\n",
        "print(10,x)"
      ],
      "metadata": {
        "colab": {
          "base_uri": "https://localhost:8080/"
        },
        "id": "XhGhSFCHSal7",
        "outputId": "1f010814-6b24-4fa9-df5e-be173929f5e3"
      },
      "execution_count": null,
      "outputs": [
        {
          "output_type": "stream",
          "name": "stdout",
          "text": [
            "mustmustmustmustmustmustmustmustmustmust\n",
            "10must\n",
            "10 must\n"
          ]
        }
      ]
    },
    {
      "cell_type": "code",
      "source": [
        "x=12\n",
        "print(type(x))\n",
        "y=float(x)+0.5 #強制轉換型別\n",
        "print(type(y))\n",
        "print(y)\n",
        "print(type(y))\n",
        "print(int(\"12\"))\n",
        "print(float(\"12.5\"))\n",
        "print(eval(\"5.5*2\"))"
      ],
      "metadata": {
        "colab": {
          "base_uri": "https://localhost:8080/"
        },
        "id": "OTESN3X8V82a",
        "outputId": "ab14f554-e56f-4ed7-c7af-daa493f12c4e"
      },
      "execution_count": null,
      "outputs": [
        {
          "output_type": "stream",
          "name": "stdout",
          "text": [
            "<class 'int'>\n",
            "<class 'float'>\n",
            "12.5\n",
            "<class 'float'>\n",
            "12\n",
            "12.5\n",
            "11.0\n"
          ]
        }
      ]
    }
  ]
}