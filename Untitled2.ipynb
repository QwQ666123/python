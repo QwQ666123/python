{
  "nbformat": 4,
  "nbformat_minor": 0,
  "metadata": {
    "colab": {
      "name": "Untitled2.ipynb",
      "provenance": [],
      "collapsed_sections": []
    },
    "kernelspec": {
      "name": "python3",
      "display_name": "Python 3"
    },
    "language_info": {
      "name": "python"
    }
  },
  "cells": [
    {
      "cell_type": "code",
      "execution_count": null,
      "metadata": {
        "colab": {
          "base_uri": "https://localhost:8080/"
        },
        "id": "0Wdj6HSDLfgG",
        "outputId": "d8b5aec1-6df9-449b-9c20-7c43247edc1f"
      },
      "outputs": [
        {
          "output_type": "stream",
          "name": "stdout",
          "text": [
            "Thisisabook\n",
            "This is a book\n",
            "This\n",
            "is\n",
            "a\n",
            "book\n"
          ]
        }
      ],
      "source": [
        "print(\"This\"+\"is\"+\"a\"+\"book\")\n",
        "print(\"This\",\"is\",\"a\",\"book\")\n",
        "print(\"This\")\n",
        "print(\"is\")\n",
        "print(\"a\")\n",
        "print(\"book\")"
      ]
    },
    {
      "cell_type": "markdown",
      "source": [
        "### print的三種方式\n",
        "1. 透過,區隔要列印的變數 eg: print(\"This\", \"is\", \"a\", \"book\") \n",
        "2. 利用字串的str.format() (新式)\n",
        "3. %格式化输出字符串 (舊式)"
      ],
      "metadata": {
        "id": "dlmV_eb6Od5N"
      }
    },
    {
      "cell_type": "code",
      "source": [
        "print(\"This {} a book\".format(\"is\"))\n",
        "x=123456.7819\n",
        "print(\"{:.2f}\".format(x))\n",
        "print(\"{:,.2f}\".format(x))"
      ],
      "metadata": {
        "colab": {
          "base_uri": "https://localhost:8080/"
        },
        "id": "D9mLNEKoOezU",
        "outputId": "90b54ea8-5bf5-4d2f-8848-5eaa52d9f91d"
      },
      "execution_count": null,
      "outputs": [
        {
          "output_type": "stream",
          "name": "stdout",
          "text": [
            "This is a book\n",
            "123456.78\n",
            "123,456.78\n"
          ]
        }
      ]
    },
    {
      "cell_type": "code",
      "source": [
        "print(\"This %10s a book%-10s\" % (\"is\",\"!\"))\n",
        "print(\"%7.3f\" % (687.4333)) "
      ],
      "metadata": {
        "colab": {
          "base_uri": "https://localhost:8080/"
        },
        "id": "s0he4iaXXbH4",
        "outputId": "0f1bd6d8-4efc-4328-83d9-d72ede5db3d9"
      },
      "execution_count": null,
      "outputs": [
        {
          "output_type": "stream",
          "name": "stdout",
          "text": [
            "This         is a book!         \n",
            "687.433\n"
          ]
        }
      ]
    },
    {
      "cell_type": "code",
      "source": [
        "a=3\n",
        "b=3\n",
        "if a>b :\n",
        "  print(\"a>b\")\n",
        "elif a==b:\n",
        "  print(\"a=b\")  \n",
        "else :\n",
        "  print(\"b>a\")  "
      ],
      "metadata": {
        "colab": {
          "base_uri": "https://localhost:8080/"
        },
        "id": "_aozRYKeOo2p",
        "outputId": "d29cc898-cfb5-4915-dabe-159e9cbe6c70"
      },
      "execution_count": null,
      "outputs": [
        {
          "output_type": "stream",
          "name": "stdout",
          "text": [
            "a=b\n"
          ]
        }
      ]
    },
    {
      "cell_type": "code",
      "source": [
        "import math\n",
        "a=eval(input(\"a\"))\n",
        "b=eval(input(\"b\"))\n",
        "\n",
        "if a>b :\n",
        "  print(\"a>b\")\n",
        "elif a==b:\n",
        "  print(\"a=b\")  \n",
        "else :\n",
        "  print(\"b>a\")  \n"
      ],
      "metadata": {
        "colab": {
          "base_uri": "https://localhost:8080/"
        },
        "id": "vDy48_nPTDmi",
        "outputId": "95bb3115-d661-4e38-802b-411d5830018a"
      },
      "execution_count": null,
      "outputs": [
        {
          "output_type": "stream",
          "name": "stdout",
          "text": [
            "a2\n",
            "b3\n",
            "b>a\n"
          ]
        }
      ]
    },
    {
      "cell_type": "code",
      "source": [
        "grade=87\n",
        "\n",
        "import math\n",
        "grade=eval(input(\"Grade:\"))\n",
        "\n",
        "print(\"成績評鑑:\")\n",
        "if grade >=90:\n",
        "  print(\"優等\")\n",
        "\n",
        "elif grade >=80:\n",
        "  print(\"甲等\")\n",
        "\n",
        "elif grade >=70:\n",
        "  print(\"乙等\")\n",
        "\n",
        "elif grade >=60:\n",
        "  print(\"丙等\")\n",
        "\n",
        "else:\n",
        "  print(\"不及格\")    "
      ],
      "metadata": {
        "colab": {
          "base_uri": "https://localhost:8080/"
        },
        "id": "yce9zS9VWNyI",
        "outputId": "b490dfa9-5483-43f8-85a2-8e48f6229568"
      },
      "execution_count": null,
      "outputs": [
        {
          "output_type": "stream",
          "name": "stdout",
          "text": [
            "Grade:50\n",
            "成績評鑑\n",
            "不及格\n"
          ]
        }
      ]
    },
    {
      "cell_type": "code",
      "source": [
        "for i in range(10):\n",
        "  print(i)"
      ],
      "metadata": {
        "id": "a6L6Vzzabt9H"
      },
      "execution_count": null,
      "outputs": []
    },
    {
      "cell_type": "code",
      "source": [
        "for i in range(0,10,2):\n",
        "  print(i)"
      ],
      "metadata": {
        "id": "_KFMYgFgb0ye"
      },
      "execution_count": null,
      "outputs": []
    },
    {
      "cell_type": "markdown",
      "source": [
        "求1+2+3...10的總和\n"
      ],
      "metadata": {
        "id": "qonx_7gse0z4"
      }
    },
    {
      "cell_type": "code",
      "source": [
        "sum=0\n",
        "for count in range(1,11,1):\n",
        "  sum=sum+count\n",
        "\n",
        "print(sum)"
      ],
      "metadata": {
        "colab": {
          "base_uri": "https://localhost:8080/"
        },
        "id": "HGNxJMyrefbQ",
        "outputId": "5247d47b-0987-468f-cc5f-7f68f375da98"
      },
      "execution_count": null,
      "outputs": [
        {
          "output_type": "stream",
          "name": "stdout",
          "text": [
            "55\n"
          ]
        }
      ]
    },
    {
      "cell_type": "code",
      "source": [
        "for c in \"I am tried\":\n",
        "  print(c)"
      ],
      "metadata": {
        "id": "Je-GMqzshS6m"
      },
      "execution_count": null,
      "outputs": []
    },
    {
      "cell_type": "code",
      "source": [
        "for s in [90,100,88,77]:\n",
        "  print(s)"
      ],
      "metadata": {
        "id": "G9KwiDeYhf6W"
      },
      "execution_count": null,
      "outputs": []
    },
    {
      "cell_type": "code",
      "source": [
        "for w in [\"john\",\"mary\",\"tom\"]:\n",
        "  print(w)\n"
      ],
      "metadata": {
        "id": "U9VbCgGbhn_m"
      },
      "execution_count": null,
      "outputs": []
    },
    {
      "cell_type": "code",
      "source": [
        "sum=0\n",
        "count=1\n",
        "while count <=10:\n",
        "    sum += count\n",
        "    count += 1\n",
        "print(\"1+2+3+...+10=\",sum)"
      ],
      "metadata": {
        "id": "Ugw8HbLYkIfO"
      },
      "execution_count": null,
      "outputs": []
    }
  ]
}